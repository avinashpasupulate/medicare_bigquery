{
 "cells": [
  {
   "cell_type": "markdown",
   "metadata": {},
   "source": [
    "<h2 align = 'center'>Downloading Medicare Dataset from Google BigQuery</h2>"
   ]
  },
  {
   "cell_type": "markdown",
   "metadata": {},
   "source": [
    "<h3>Links:</h3>\n",
    "<ol>\n",
    "    <li><a href = https://cloud.google.com/bigquery/public-data/>Google Big Query</a></li>\n",
    "    <li><a href = https://cloud.google.com/public-datasets/>Google Public Datasets</a></li>\n",
    "</ol>"
   ]
  },
  {
   "cell_type": "markdown",
   "metadata": {},
   "source": [
    "Create and download credentials for the query job:  <a href = 'https://cloud.google.com/bigquery/docs/reference/libraries'>Instructions</a>"
   ]
  },
  {
   "cell_type": "code",
   "execution_count": 1,
   "metadata": {},
   "outputs": [],
   "source": [
    "import os\n",
    "import pandas as pd\n",
    "from google.cloud import bigquery\n",
    "\n",
    "cwd = os.getcwd()\n",
    "try:\n",
    "    os.makedirs(cwd+'\\data')\n",
    "except:\n",
    "    pass"
   ]
  },
  {
   "cell_type": "code",
   "execution_count": 2,
   "metadata": {},
   "outputs": [
    {
     "data": {
      "text/plain": [
       "'C:\\\\Users\\\\AVINASH\\\\OneDrive\\\\Avinash\\\\medicare_data'"
      ]
     },
     "execution_count": 2,
     "metadata": {},
     "output_type": "execute_result"
    }
   ],
   "source": [
    "cwd"
   ]
  },
  {
   "cell_type": "markdown",
   "metadata": {},
   "source": [
    "<h4>Listing Tables in  Medicare Dataset from Big Query</h4>"
   ]
  },
  {
   "cell_type": "markdown",
   "metadata": {},
   "source": [
    "Creating connection to open medicare dataset on google BigQuery"
   ]
  },
  {
   "cell_type": "code",
   "execution_count": 3,
   "metadata": {},
   "outputs": [],
   "source": [
    "#replace 'cred.json' with the path to your credentials\n",
    "bq = bigquery.Client.from_service_account_json('cred.json')"
   ]
  },
  {
   "cell_type": "markdown",
   "metadata": {},
   "source": [
    "Listing all table names from the medicare database"
   ]
  },
  {
   "cell_type": "code",
   "execution_count": 4,
   "metadata": {},
   "outputs": [],
   "source": [
    "tablenames = bq.query(\"\"\"SELECT * FROM `bigquery-public-data.medicare.__TABLES__`\"\"\").result()\n",
    "tables = [i for i in tablenames]\n",
    "files = [i[2] for i in tables]"
   ]
  },
  {
   "cell_type": "markdown",
   "metadata": {},
   "source": [
    "List of tables and corresponding file sizes in Mb"
   ]
  },
  {
   "cell_type": "code",
   "execution_count": 5,
   "metadata": {},
   "outputs": [
    {
     "data": {
      "text/plain": [
       "['inpatient_charges_2011;    27.51 Mb',\n",
       " 'inpatient_charges_2012;    26.68 Mb',\n",
       " 'inpatient_charges_2013;    26.03 Mb',\n",
       " 'inpatient_charges_2014;    34.61 Mb',\n",
       " 'outpatient_charges_2011;    6.92 Mb',\n",
       " 'outpatient_charges_2012;    6.99 Mb',\n",
       " 'outpatient_charges_2013;    6.84 Mb',\n",
       " 'outpatient_charges_2014;    5.7 Mb',\n",
       " 'part_d_prescriber_2014;    3246.65 Mb',\n",
       " 'physicians_and_other_supplier_2012;    2295.8 Mb',\n",
       " 'physicians_and_other_supplier_2013;    2331.54 Mb',\n",
       " 'physicians_and_other_supplier_2014;    2206.26 Mb']"
      ]
     },
     "execution_count": 5,
     "metadata": {},
     "output_type": "execute_result"
    }
   ],
   "source": [
    "[str(i[2])+';    '+str(round((i[6]/(1024.0))/1024.0,2))+' Mb' for i in tables]"
   ]
  },
  {
   "cell_type": "markdown",
   "metadata": {},
   "source": [
    "<h4>Downloading Medicare Datasets from Big Query</h4>"
   ]
  },
  {
   "cell_type": "markdown",
   "metadata": {},
   "source": [
    "<br>\n",
    "Downloading tables containing inpatient and outpatient charges as csv files, larger files may be be included in the analysis later on.\n",
    "<br><br>\n",
    "(check file sizes before downloading, BigQuery ~= Big Data)\n",
    "<br>"
   ]
  },
  {
   "cell_type": "code",
   "execution_count": 6,
   "metadata": {},
   "outputs": [],
   "source": [
    "for i in files[0:8]:\n",
    "    j = 'bigquery-public-data.medicare.'+i\n",
    "    filequery = bq.query(\"\"\"SELECT * FROM \"\"\" + '`'+j+'`').result()\n",
    "    filedf = filequery.to_dataframe()\n",
    "    filedf.to_csv(cwd+'/data/'+i+'.csv', index= False)"
   ]
  },
  {
   "cell_type": "markdown",
   "metadata": {},
   "source": [
    "<br>\n",
    "Listing downloaded files\n",
    "<br>"
   ]
  },
  {
   "cell_type": "code",
   "execution_count": 7,
   "metadata": {},
   "outputs": [
    {
     "data": {
      "text/plain": [
       "['inpatient_charges_2011.csv',\n",
       " 'inpatient_charges_2012.csv',\n",
       " 'inpatient_charges_2013.csv',\n",
       " 'inpatient_charges_2014.csv',\n",
       " 'outpatient_charges_2011.csv',\n",
       " 'outpatient_charges_2012.csv',\n",
       " 'outpatient_charges_2013.csv',\n",
       " 'outpatient_charges_2014.csv']"
      ]
     },
     "execution_count": 7,
     "metadata": {},
     "output_type": "execute_result"
    }
   ],
   "source": [
    "os.listdir(cwd+'/data/')"
   ]
  },
  {
   "cell_type": "code",
   "execution_count": null,
   "metadata": {},
   "outputs": [],
   "source": []
  }
 ],
 "metadata": {
  "kernelspec": {
   "display_name": "Python 3",
   "language": "python",
   "name": "python3"
  },
  "language_info": {
   "codemirror_mode": {
    "name": "ipython",
    "version": 3
   },
   "file_extension": ".py",
   "mimetype": "text/x-python",
   "name": "python",
   "nbconvert_exporter": "python",
   "pygments_lexer": "ipython3",
   "version": "3.6.7"
  }
 },
 "nbformat": 4,
 "nbformat_minor": 2
}
